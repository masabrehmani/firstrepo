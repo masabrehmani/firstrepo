{
 "cells": [
  {
   "cell_type": "markdown",
   "metadata": {},
   "source": [
    " # participant\n",
    "Title=\"Matric Student\"\n",
    "\n",
    "name = \"Muhammad Masab\"\n",
    "\n",
    "email = \"masabrehmani110@gmail.com\"\n",
    "\n",
    "whatsapp = \"no number\"\n",
    "\n"
   ]
  },
  {
   "cell_type": "markdown",
   "metadata": {},
   "source": []
  }
 ],
 "metadata": {
  "language_info": {
   "name": "python"
  },
  "orig_nbformat": 4
 },
 "nbformat": 4,
 "nbformat_minor": 2
}
